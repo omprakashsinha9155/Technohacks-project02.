{
  "nbformat": 4,
  "nbformat_minor": 0,
  "metadata": {
    "colab": {
      "provenance": []
    },
    "kernelspec": {
      "name": "python3",
      "display_name": "Python 3"
    },
    "language_info": {
      "name": "python"
    }
  },
  "cells": [
    {
      "cell_type": "markdown",
      "source": [
        "Import libraries & modules"
      ],
      "metadata": {
        "id": "YiJv34gxWBmg"
      }
    },
    {
      "cell_type": "code",
      "source": [
        "import numpy as np\n",
        "import pandas as pd\n",
        "import matplotlib.pyplot as plt\n",
        "import seaborn as sns"
      ],
      "metadata": {
        "id": "QLRjeGMnWIyu"
      },
      "execution_count": 1,
      "outputs": []
    },
    {
      "cell_type": "code",
      "source": [
        "df = pd.read_csv('/content/Kc_house_dataset.csv')\n",
        "train = pd.read_csv('/content/H.P.P. train.csv')\n",
        "test = pd.read_csv('/content/H.P.P. test.csv')\n",
        "df"
      ],
      "metadata": {
        "colab": {
          "base_uri": "https://localhost:8080/",
          "height": 443
        },
        "id": "hhCq0dRaWkVg",
        "outputId": "135700c2-190d-4458-9d13-d9e5a1b489da"
      },
      "execution_count": 2,
      "outputs": [
        {
          "output_type": "execute_result",
          "data": {
            "text/plain": [
              "      1stFlrSF  2ndFlrSF  3SsnPorch  BedroomAbvGr BldgType  BsmtCond  \\\n",
              "0     6.753438  6.751101        0.0      1.386294     1Fam         3   \n",
              "1     7.141245  0.000000        0.0      1.386294     1Fam         3   \n",
              "2     6.825460  6.765039        0.0      1.386294     1Fam         3   \n",
              "3     6.869014  6.629363        0.0      1.386294     1Fam         4   \n",
              "4     7.044033  6.960348        0.0      1.609438     1Fam         3   \n",
              "...        ...       ...        ...           ...      ...       ...   \n",
              "2914  6.304449  6.304449        0.0      1.386294    Twnhs         3   \n",
              "2915  6.304449  6.304449        0.0      1.386294   TwnhsE         3   \n",
              "2916  7.110696  0.000000        0.0      1.609438     1Fam         3   \n",
              "2917  6.878326  0.000000        0.0      1.386294     1Fam         3   \n",
              "2918  6.904751  6.912743        0.0      1.386294     1Fam         3   \n",
              "\n",
              "      BsmtExposure  BsmtFinSF1  BsmtFinSF2  BsmtFinType1  ...  SaleType  \\\n",
              "0               -1    6.561031         0.0             6  ...        WD   \n",
              "1                3    6.886532         0.0             5  ...        WD   \n",
              "2                1    6.188264         0.0             6  ...        WD   \n",
              "3               -1    5.379897         0.0             5  ...        WD   \n",
              "4                2    6.486161         0.0             6  ...        WD   \n",
              "...            ...         ...         ...           ...  ...       ...   \n",
              "2914            -1    0.000000         0.0             1  ...        WD   \n",
              "2915            -1    5.533389         0.0             3  ...        WD   \n",
              "2916            -1    7.110696         0.0             5  ...        WD   \n",
              "2917             2    5.823046         0.0             6  ...        WD   \n",
              "2918             2    6.632002         0.0             2  ...        WD   \n",
              "\n",
              "      ScreenPorch  Street  TotRmsAbvGrd  TotalBsmtSF Utilities WoodDeckSF  \\\n",
              "0             0.0    Pave      2.197225     6.753438         3   0.000000   \n",
              "1             0.0    Pave      1.945910     7.141245         3   5.700444   \n",
              "2             0.0    Pave      1.945910     6.825460         3   0.000000   \n",
              "3             0.0    Pave      2.079442     6.629363         3   0.000000   \n",
              "4             0.0    Pave      2.302585     7.044033         3   5.262690   \n",
              "...           ...     ...           ...          ...       ...        ...   \n",
              "2914          0.0    Pave      1.791759     6.304449         3   0.000000   \n",
              "2915          0.0    Pave      1.945910     6.304449         3   0.000000   \n",
              "2916          0.0    Pave      2.079442     7.110696         3   6.163315   \n",
              "2917          0.0    Pave      1.945910     6.816736         3   4.394449   \n",
              "2918          0.0    Pave      2.302585     6.904751         3   5.252273   \n",
              "\n",
              "     YearBuilt YearRemodAdd  YrSold  \n",
              "0         2003         2003    2008  \n",
              "1         1976         1976    2007  \n",
              "2         2001         2002    2008  \n",
              "3         1915         1970    2006  \n",
              "4         2000         2000    2008  \n",
              "...        ...          ...     ...  \n",
              "2914      1970         1970    2006  \n",
              "2915      1970         1970    2006  \n",
              "2916      1960         1996    2006  \n",
              "2917      1992         1992    2006  \n",
              "2918      1993         1994    2006  \n",
              "\n",
              "[2919 rows x 74 columns]"
            ],
            "text/html": [
              "\n",
              "  <div id=\"df-d73dbdba-a351-4578-98d5-3383b26d8b86\" class=\"colab-df-container\">\n",
              "    <div>\n",
              "<style scoped>\n",
              "    .dataframe tbody tr th:only-of-type {\n",
              "        vertical-align: middle;\n",
              "    }\n",
              "\n",
              "    .dataframe tbody tr th {\n",
              "        vertical-align: top;\n",
              "    }\n",
              "\n",
              "    .dataframe thead th {\n",
              "        text-align: right;\n",
              "    }\n",
              "</style>\n",
              "<table border=\"1\" class=\"dataframe\">\n",
              "  <thead>\n",
              "    <tr style=\"text-align: right;\">\n",
              "      <th></th>\n",
              "      <th>1stFlrSF</th>\n",
              "      <th>2ndFlrSF</th>\n",
              "      <th>3SsnPorch</th>\n",
              "      <th>BedroomAbvGr</th>\n",
              "      <th>BldgType</th>\n",
              "      <th>BsmtCond</th>\n",
              "      <th>BsmtExposure</th>\n",
              "      <th>BsmtFinSF1</th>\n",
              "      <th>BsmtFinSF2</th>\n",
              "      <th>BsmtFinType1</th>\n",
              "      <th>...</th>\n",
              "      <th>SaleType</th>\n",
              "      <th>ScreenPorch</th>\n",
              "      <th>Street</th>\n",
              "      <th>TotRmsAbvGrd</th>\n",
              "      <th>TotalBsmtSF</th>\n",
              "      <th>Utilities</th>\n",
              "      <th>WoodDeckSF</th>\n",
              "      <th>YearBuilt</th>\n",
              "      <th>YearRemodAdd</th>\n",
              "      <th>YrSold</th>\n",
              "    </tr>\n",
              "  </thead>\n",
              "  <tbody>\n",
              "    <tr>\n",
              "      <th>0</th>\n",
              "      <td>6.753438</td>\n",
              "      <td>6.751101</td>\n",
              "      <td>0.0</td>\n",
              "      <td>1.386294</td>\n",
              "      <td>1Fam</td>\n",
              "      <td>3</td>\n",
              "      <td>-1</td>\n",
              "      <td>6.561031</td>\n",
              "      <td>0.0</td>\n",
              "      <td>6</td>\n",
              "      <td>...</td>\n",
              "      <td>WD</td>\n",
              "      <td>0.0</td>\n",
              "      <td>Pave</td>\n",
              "      <td>2.197225</td>\n",
              "      <td>6.753438</td>\n",
              "      <td>3</td>\n",
              "      <td>0.000000</td>\n",
              "      <td>2003</td>\n",
              "      <td>2003</td>\n",
              "      <td>2008</td>\n",
              "    </tr>\n",
              "    <tr>\n",
              "      <th>1</th>\n",
              "      <td>7.141245</td>\n",
              "      <td>0.000000</td>\n",
              "      <td>0.0</td>\n",
              "      <td>1.386294</td>\n",
              "      <td>1Fam</td>\n",
              "      <td>3</td>\n",
              "      <td>3</td>\n",
              "      <td>6.886532</td>\n",
              "      <td>0.0</td>\n",
              "      <td>5</td>\n",
              "      <td>...</td>\n",
              "      <td>WD</td>\n",
              "      <td>0.0</td>\n",
              "      <td>Pave</td>\n",
              "      <td>1.945910</td>\n",
              "      <td>7.141245</td>\n",
              "      <td>3</td>\n",
              "      <td>5.700444</td>\n",
              "      <td>1976</td>\n",
              "      <td>1976</td>\n",
              "      <td>2007</td>\n",
              "    </tr>\n",
              "    <tr>\n",
              "      <th>2</th>\n",
              "      <td>6.825460</td>\n",
              "      <td>6.765039</td>\n",
              "      <td>0.0</td>\n",
              "      <td>1.386294</td>\n",
              "      <td>1Fam</td>\n",
              "      <td>3</td>\n",
              "      <td>1</td>\n",
              "      <td>6.188264</td>\n",
              "      <td>0.0</td>\n",
              "      <td>6</td>\n",
              "      <td>...</td>\n",
              "      <td>WD</td>\n",
              "      <td>0.0</td>\n",
              "      <td>Pave</td>\n",
              "      <td>1.945910</td>\n",
              "      <td>6.825460</td>\n",
              "      <td>3</td>\n",
              "      <td>0.000000</td>\n",
              "      <td>2001</td>\n",
              "      <td>2002</td>\n",
              "      <td>2008</td>\n",
              "    </tr>\n",
              "    <tr>\n",
              "      <th>3</th>\n",
              "      <td>6.869014</td>\n",
              "      <td>6.629363</td>\n",
              "      <td>0.0</td>\n",
              "      <td>1.386294</td>\n",
              "      <td>1Fam</td>\n",
              "      <td>4</td>\n",
              "      <td>-1</td>\n",
              "      <td>5.379897</td>\n",
              "      <td>0.0</td>\n",
              "      <td>5</td>\n",
              "      <td>...</td>\n",
              "      <td>WD</td>\n",
              "      <td>0.0</td>\n",
              "      <td>Pave</td>\n",
              "      <td>2.079442</td>\n",
              "      <td>6.629363</td>\n",
              "      <td>3</td>\n",
              "      <td>0.000000</td>\n",
              "      <td>1915</td>\n",
              "      <td>1970</td>\n",
              "      <td>2006</td>\n",
              "    </tr>\n",
              "    <tr>\n",
              "      <th>4</th>\n",
              "      <td>7.044033</td>\n",
              "      <td>6.960348</td>\n",
              "      <td>0.0</td>\n",
              "      <td>1.609438</td>\n",
              "      <td>1Fam</td>\n",
              "      <td>3</td>\n",
              "      <td>2</td>\n",
              "      <td>6.486161</td>\n",
              "      <td>0.0</td>\n",
              "      <td>6</td>\n",
              "      <td>...</td>\n",
              "      <td>WD</td>\n",
              "      <td>0.0</td>\n",
              "      <td>Pave</td>\n",
              "      <td>2.302585</td>\n",
              "      <td>7.044033</td>\n",
              "      <td>3</td>\n",
              "      <td>5.262690</td>\n",
              "      <td>2000</td>\n",
              "      <td>2000</td>\n",
              "      <td>2008</td>\n",
              "    </tr>\n",
              "    <tr>\n",
              "      <th>...</th>\n",
              "      <td>...</td>\n",
              "      <td>...</td>\n",
              "      <td>...</td>\n",
              "      <td>...</td>\n",
              "      <td>...</td>\n",
              "      <td>...</td>\n",
              "      <td>...</td>\n",
              "      <td>...</td>\n",
              "      <td>...</td>\n",
              "      <td>...</td>\n",
              "      <td>...</td>\n",
              "      <td>...</td>\n",
              "      <td>...</td>\n",
              "      <td>...</td>\n",
              "      <td>...</td>\n",
              "      <td>...</td>\n",
              "      <td>...</td>\n",
              "      <td>...</td>\n",
              "      <td>...</td>\n",
              "      <td>...</td>\n",
              "      <td>...</td>\n",
              "    </tr>\n",
              "    <tr>\n",
              "      <th>2914</th>\n",
              "      <td>6.304449</td>\n",
              "      <td>6.304449</td>\n",
              "      <td>0.0</td>\n",
              "      <td>1.386294</td>\n",
              "      <td>Twnhs</td>\n",
              "      <td>3</td>\n",
              "      <td>-1</td>\n",
              "      <td>0.000000</td>\n",
              "      <td>0.0</td>\n",
              "      <td>1</td>\n",
              "      <td>...</td>\n",
              "      <td>WD</td>\n",
              "      <td>0.0</td>\n",
              "      <td>Pave</td>\n",
              "      <td>1.791759</td>\n",
              "      <td>6.304449</td>\n",
              "      <td>3</td>\n",
              "      <td>0.000000</td>\n",
              "      <td>1970</td>\n",
              "      <td>1970</td>\n",
              "      <td>2006</td>\n",
              "    </tr>\n",
              "    <tr>\n",
              "      <th>2915</th>\n",
              "      <td>6.304449</td>\n",
              "      <td>6.304449</td>\n",
              "      <td>0.0</td>\n",
              "      <td>1.386294</td>\n",
              "      <td>TwnhsE</td>\n",
              "      <td>3</td>\n",
              "      <td>-1</td>\n",
              "      <td>5.533389</td>\n",
              "      <td>0.0</td>\n",
              "      <td>3</td>\n",
              "      <td>...</td>\n",
              "      <td>WD</td>\n",
              "      <td>0.0</td>\n",
              "      <td>Pave</td>\n",
              "      <td>1.945910</td>\n",
              "      <td>6.304449</td>\n",
              "      <td>3</td>\n",
              "      <td>0.000000</td>\n",
              "      <td>1970</td>\n",
              "      <td>1970</td>\n",
              "      <td>2006</td>\n",
              "    </tr>\n",
              "    <tr>\n",
              "      <th>2916</th>\n",
              "      <td>7.110696</td>\n",
              "      <td>0.000000</td>\n",
              "      <td>0.0</td>\n",
              "      <td>1.609438</td>\n",
              "      <td>1Fam</td>\n",
              "      <td>3</td>\n",
              "      <td>-1</td>\n",
              "      <td>7.110696</td>\n",
              "      <td>0.0</td>\n",
              "      <td>5</td>\n",
              "      <td>...</td>\n",
              "      <td>WD</td>\n",
              "      <td>0.0</td>\n",
              "      <td>Pave</td>\n",
              "      <td>2.079442</td>\n",
              "      <td>7.110696</td>\n",
              "      <td>3</td>\n",
              "      <td>6.163315</td>\n",
              "      <td>1960</td>\n",
              "      <td>1996</td>\n",
              "      <td>2006</td>\n",
              "    </tr>\n",
              "    <tr>\n",
              "      <th>2917</th>\n",
              "      <td>6.878326</td>\n",
              "      <td>0.000000</td>\n",
              "      <td>0.0</td>\n",
              "      <td>1.386294</td>\n",
              "      <td>1Fam</td>\n",
              "      <td>3</td>\n",
              "      <td>2</td>\n",
              "      <td>5.823046</td>\n",
              "      <td>0.0</td>\n",
              "      <td>6</td>\n",
              "      <td>...</td>\n",
              "      <td>WD</td>\n",
              "      <td>0.0</td>\n",
              "      <td>Pave</td>\n",
              "      <td>1.945910</td>\n",
              "      <td>6.816736</td>\n",
              "      <td>3</td>\n",
              "      <td>4.394449</td>\n",
              "      <td>1992</td>\n",
              "      <td>1992</td>\n",
              "      <td>2006</td>\n",
              "    </tr>\n",
              "    <tr>\n",
              "      <th>2918</th>\n",
              "      <td>6.904751</td>\n",
              "      <td>6.912743</td>\n",
              "      <td>0.0</td>\n",
              "      <td>1.386294</td>\n",
              "      <td>1Fam</td>\n",
              "      <td>3</td>\n",
              "      <td>2</td>\n",
              "      <td>6.632002</td>\n",
              "      <td>0.0</td>\n",
              "      <td>2</td>\n",
              "      <td>...</td>\n",
              "      <td>WD</td>\n",
              "      <td>0.0</td>\n",
              "      <td>Pave</td>\n",
              "      <td>2.302585</td>\n",
              "      <td>6.904751</td>\n",
              "      <td>3</td>\n",
              "      <td>5.252273</td>\n",
              "      <td>1993</td>\n",
              "      <td>1994</td>\n",
              "      <td>2006</td>\n",
              "    </tr>\n",
              "  </tbody>\n",
              "</table>\n",
              "<p>2919 rows × 74 columns</p>\n",
              "</div>\n",
              "    <div class=\"colab-df-buttons\">\n",
              "\n",
              "  <div class=\"colab-df-container\">\n",
              "    <button class=\"colab-df-convert\" onclick=\"convertToInteractive('df-d73dbdba-a351-4578-98d5-3383b26d8b86')\"\n",
              "            title=\"Convert this dataframe to an interactive table.\"\n",
              "            style=\"display:none;\">\n",
              "\n",
              "  <svg xmlns=\"http://www.w3.org/2000/svg\" height=\"24px\" viewBox=\"0 -960 960 960\">\n",
              "    <path d=\"M120-120v-720h720v720H120Zm60-500h600v-160H180v160Zm220 220h160v-160H400v160Zm0 220h160v-160H400v160ZM180-400h160v-160H180v160Zm440 0h160v-160H620v160ZM180-180h160v-160H180v160Zm440 0h160v-160H620v160Z\"/>\n",
              "  </svg>\n",
              "    </button>\n",
              "\n",
              "  <style>\n",
              "    .colab-df-container {\n",
              "      display:flex;\n",
              "      gap: 12px;\n",
              "    }\n",
              "\n",
              "    .colab-df-convert {\n",
              "      background-color: #E8F0FE;\n",
              "      border: none;\n",
              "      border-radius: 50%;\n",
              "      cursor: pointer;\n",
              "      display: none;\n",
              "      fill: #1967D2;\n",
              "      height: 32px;\n",
              "      padding: 0 0 0 0;\n",
              "      width: 32px;\n",
              "    }\n",
              "\n",
              "    .colab-df-convert:hover {\n",
              "      background-color: #E2EBFA;\n",
              "      box-shadow: 0px 1px 2px rgba(60, 64, 67, 0.3), 0px 1px 3px 1px rgba(60, 64, 67, 0.15);\n",
              "      fill: #174EA6;\n",
              "    }\n",
              "\n",
              "    .colab-df-buttons div {\n",
              "      margin-bottom: 4px;\n",
              "    }\n",
              "\n",
              "    [theme=dark] .colab-df-convert {\n",
              "      background-color: #3B4455;\n",
              "      fill: #D2E3FC;\n",
              "    }\n",
              "\n",
              "    [theme=dark] .colab-df-convert:hover {\n",
              "      background-color: #434B5C;\n",
              "      box-shadow: 0px 1px 3px 1px rgba(0, 0, 0, 0.15);\n",
              "      filter: drop-shadow(0px 1px 2px rgba(0, 0, 0, 0.3));\n",
              "      fill: #FFFFFF;\n",
              "    }\n",
              "  </style>\n",
              "\n",
              "    <script>\n",
              "      const buttonEl =\n",
              "        document.querySelector('#df-d73dbdba-a351-4578-98d5-3383b26d8b86 button.colab-df-convert');\n",
              "      buttonEl.style.display =\n",
              "        google.colab.kernel.accessAllowed ? 'block' : 'none';\n",
              "\n",
              "      async function convertToInteractive(key) {\n",
              "        const element = document.querySelector('#df-d73dbdba-a351-4578-98d5-3383b26d8b86');\n",
              "        const dataTable =\n",
              "          await google.colab.kernel.invokeFunction('convertToInteractive',\n",
              "                                                    [key], {});\n",
              "        if (!dataTable) return;\n",
              "\n",
              "        const docLinkHtml = 'Like what you see? Visit the ' +\n",
              "          '<a target=\"_blank\" href=https://colab.research.google.com/notebooks/data_table.ipynb>data table notebook</a>'\n",
              "          + ' to learn more about interactive tables.';\n",
              "        element.innerHTML = '';\n",
              "        dataTable['output_type'] = 'display_data';\n",
              "        await google.colab.output.renderOutput(dataTable, element);\n",
              "        const docLink = document.createElement('div');\n",
              "        docLink.innerHTML = docLinkHtml;\n",
              "        element.appendChild(docLink);\n",
              "      }\n",
              "    </script>\n",
              "  </div>\n",
              "\n",
              "\n",
              "<div id=\"df-df844258-f2a0-407f-b10d-3d53b41f9a74\">\n",
              "  <button class=\"colab-df-quickchart\" onclick=\"quickchart('df-df844258-f2a0-407f-b10d-3d53b41f9a74')\"\n",
              "            title=\"Suggest charts.\"\n",
              "            style=\"display:none;\">\n",
              "\n",
              "<svg xmlns=\"http://www.w3.org/2000/svg\" height=\"24px\"viewBox=\"0 0 24 24\"\n",
              "     width=\"24px\">\n",
              "    <g>\n",
              "        <path d=\"M19 3H5c-1.1 0-2 .9-2 2v14c0 1.1.9 2 2 2h14c1.1 0 2-.9 2-2V5c0-1.1-.9-2-2-2zM9 17H7v-7h2v7zm4 0h-2V7h2v10zm4 0h-2v-4h2v4z\"/>\n",
              "    </g>\n",
              "</svg>\n",
              "  </button>\n",
              "\n",
              "<style>\n",
              "  .colab-df-quickchart {\n",
              "    background-color: #E8F0FE;\n",
              "    border: none;\n",
              "    border-radius: 50%;\n",
              "    cursor: pointer;\n",
              "    display: none;\n",
              "    fill: #1967D2;\n",
              "    height: 32px;\n",
              "    padding: 0 0 0 0;\n",
              "    width: 32px;\n",
              "  }\n",
              "\n",
              "  .colab-df-quickchart:hover {\n",
              "    background-color: #E2EBFA;\n",
              "    box-shadow: 0px 1px 2px rgba(60, 64, 67, 0.3), 0px 1px 3px 1px rgba(60, 64, 67, 0.15);\n",
              "    fill: #174EA6;\n",
              "  }\n",
              "\n",
              "  [theme=dark] .colab-df-quickchart {\n",
              "    background-color: #3B4455;\n",
              "    fill: #D2E3FC;\n",
              "  }\n",
              "\n",
              "  [theme=dark] .colab-df-quickchart:hover {\n",
              "    background-color: #434B5C;\n",
              "    box-shadow: 0px 1px 3px 1px rgba(0, 0, 0, 0.15);\n",
              "    filter: drop-shadow(0px 1px 2px rgba(0, 0, 0, 0.3));\n",
              "    fill: #FFFFFF;\n",
              "  }\n",
              "</style>\n",
              "\n",
              "  <script>\n",
              "    async function quickchart(key) {\n",
              "      const charts = await google.colab.kernel.invokeFunction(\n",
              "          'suggestCharts', [key], {});\n",
              "    }\n",
              "    (() => {\n",
              "      let quickchartButtonEl =\n",
              "        document.querySelector('#df-df844258-f2a0-407f-b10d-3d53b41f9a74 button');\n",
              "      quickchartButtonEl.style.display =\n",
              "        google.colab.kernel.accessAllowed ? 'block' : 'none';\n",
              "    })();\n",
              "  </script>\n",
              "</div>\n",
              "    </div>\n",
              "  </div>\n"
            ]
          },
          "metadata": {},
          "execution_count": 2
        }
      ]
    },
    {
      "cell_type": "code",
      "source": [
        "#df = df.set_index('Id')"
      ],
      "metadata": {
        "id": "pfWh92B_XENx"
      },
      "execution_count": 4,
      "outputs": []
    },
    {
      "cell_type": "markdown",
      "source": [
        "Drop feature"
      ],
      "metadata": {
        "id": "omFSZsklXNxv"
      }
    },
    {
      "cell_type": "code",
      "source": [
        "df = df.drop(['YrSold',\n",
        " 'LowQualFinSF',\n",
        " 'MiscVal',\n",
        " 'BsmtHalfBath',\n",
        " 'BsmtFinSF2',\n",
        " '3SsnPorch',\n",
        " 'MoSold'],axis=1)"
      ],
      "metadata": {
        "id": "sRnXVcvRXQmT"
      },
      "execution_count": 5,
      "outputs": []
    },
    {
      "cell_type": "code",
      "source": [
        "quan = list(df.loc[:,df.dtypes != 'object'].columns.values)\n",
        "quan"
      ],
      "metadata": {
        "colab": {
          "base_uri": "https://localhost:8080/"
        },
        "id": "fibWoQKmXVkF",
        "outputId": "7b1833e3-d202-4ac4-ad99-87ded09bbdf6"
      },
      "execution_count": 6,
      "outputs": [
        {
          "output_type": "execute_result",
          "data": {
            "text/plain": [
              "['1stFlrSF',\n",
              " '2ndFlrSF',\n",
              " 'BedroomAbvGr',\n",
              " 'BsmtCond',\n",
              " 'BsmtExposure',\n",
              " 'BsmtFinSF1',\n",
              " 'BsmtFinType1',\n",
              " 'BsmtFinType2',\n",
              " 'BsmtFullBath',\n",
              " 'BsmtQual',\n",
              " 'BsmtUnfSF',\n",
              " 'EnclosedPorch',\n",
              " 'ExterCond',\n",
              " 'ExterQual',\n",
              " 'Fireplaces',\n",
              " 'FullBath',\n",
              " 'Functional',\n",
              " 'GarageArea',\n",
              " 'GarageCars',\n",
              " 'GarageCond',\n",
              " 'GarageFinish',\n",
              " 'GarageQual',\n",
              " 'GarageYrBlt',\n",
              " 'GrLivArea',\n",
              " 'HalfBath',\n",
              " 'HeatingQC',\n",
              " 'KitchenAbvGr',\n",
              " 'KitchenQual',\n",
              " 'LotArea',\n",
              " 'LotFrontage',\n",
              " 'MSSubClass',\n",
              " 'MasVnrArea',\n",
              " 'OpenPorchSF',\n",
              " 'OverallCond',\n",
              " 'OverallQual',\n",
              " 'PavedDrive',\n",
              " 'PoolArea',\n",
              " 'ScreenPorch',\n",
              " 'TotRmsAbvGrd',\n",
              " 'TotalBsmtSF',\n",
              " 'Utilities',\n",
              " 'WoodDeckSF',\n",
              " 'YearBuilt',\n",
              " 'YearRemodAdd']"
            ]
          },
          "metadata": {},
          "execution_count": 6
        }
      ]
    },
    {
      "cell_type": "code",
      "source": [
        "skewd_feat = ['1stFlrSF',\n",
        " '2ndFlrSF',\n",
        " 'BedroomAbvGr',\n",
        " 'BsmtFinSF1',\n",
        " 'BsmtFullBath',\n",
        " 'BsmtUnfSF',\n",
        " 'EnclosedPorch',\n",
        " 'Fireplaces',\n",
        " 'FullBath',\n",
        " 'GarageArea',\n",
        " 'GarageCars',\n",
        " 'GrLivArea',\n",
        " 'HalfBath',\n",
        " 'KitchenAbvGr',\n",
        " 'LotArea',\n",
        " 'LotFrontage',\n",
        " 'MasVnrArea',\n",
        " 'OpenPorchSF',\n",
        " 'PoolArea',\n",
        " 'ScreenPorch',\n",
        " 'TotRmsAbvGrd',\n",
        " 'TotalBsmtSF',\n",
        " 'WoodDeckSF']\n",
        "#  '3SsnPorch',  'BsmtFinSF2',  'BsmtHalfBath',  'LowQualFinSF', 'MiscVal'"
      ],
      "metadata": {
        "id": "NNWB2-h6XcnB"
      },
      "execution_count": 7,
      "outputs": []
    },
    {
      "cell_type": "code",
      "source": [
        "# Decrease the skewness of the data\n",
        "for i in skewd_feat:\n",
        "    df[i] = np.log(df[i] + 1)\n",
        "\n",
        "SalePrice = np.log(train['SalePrice'] + 1)"
      ],
      "metadata": {
        "id": "NMNDoRu0XitI"
      },
      "execution_count": 8,
      "outputs": []
    },
    {
      "cell_type": "markdown",
      "source": [
        "Decrease the skewnwnes of the data\n",
        "\n",
        "for i in skewed_features:df[i] = np.log(df[i] + 1)"
      ],
      "metadata": {
        "id": "FpS44v7FXqx_"
      }
    },
    {
      "cell_type": "code",
      "source": [
        "df"
      ],
      "metadata": {
        "colab": {
          "base_uri": "https://localhost:8080/",
          "height": 443
        },
        "id": "MWKqY_AoX7xX",
        "outputId": "ddf8c6bd-5e09-4b64-b3bb-d74ec2d70687"
      },
      "execution_count": 9,
      "outputs": [
        {
          "output_type": "execute_result",
          "data": {
            "text/plain": [
              "      1stFlrSF  2ndFlrSF  BedroomAbvGr BldgType  BsmtCond  BsmtExposure  \\\n",
              "0     2.048136  2.047835      0.869742     1Fam         3            -1   \n",
              "1     2.096943  0.000000      0.869742     1Fam         3             3   \n",
              "2     2.057383  2.049631      0.869742     1Fam         3             1   \n",
              "3     2.062933  2.032004      0.869742     1Fam         4            -1   \n",
              "4     2.084931  2.074473      0.959135     1Fam         3             2   \n",
              "...        ...       ...           ...      ...       ...           ...   \n",
              "2914  1.988484  1.988484      0.869742    Twnhs         3            -1   \n",
              "2915  1.988484  1.988484      0.869742   TwnhsE         3            -1   \n",
              "2916  2.093184  0.000000      0.959135     1Fam         3            -1   \n",
              "2917  2.064116  0.000000      0.869742     1Fam         3             2   \n",
              "2918  2.067464  2.068474      0.869742     1Fam         3             2   \n",
              "\n",
              "      BsmtFinSF1  BsmtFinType1  BsmtFinType2  BsmtFullBath  ...  \\\n",
              "0       2.023008             6             1      0.526589  ...   \n",
              "1       2.065156             5             1      0.000000  ...   \n",
              "2       1.972450             6             1      0.526589  ...   \n",
              "3       1.853152             5             1      0.526589  ...   \n",
              "4       2.013056             6             1      0.526589  ...   \n",
              "...          ...           ...           ...           ...  ...   \n",
              "2914    0.000000             1             1      0.000000  ...   \n",
              "2915    1.876926             3             1      0.000000  ...   \n",
              "2916    2.093184             5             1      0.526589  ...   \n",
              "2917    1.920306             6             1      0.000000  ...   \n",
              "2918    2.032350             2             1      0.000000  ...   \n",
              "\n",
              "      SaleCondition  SaleType ScreenPorch Street TotRmsAbvGrd TotalBsmtSF  \\\n",
              "0            Normal        WD         0.0   Pave     1.162283    2.048136   \n",
              "1            Normal        WD         0.0   Pave     1.080418    2.096943   \n",
              "2            Normal        WD         0.0   Pave     1.080418    2.057383   \n",
              "3           Abnorml        WD         0.0   Pave     1.124748    2.032004   \n",
              "4            Normal        WD         0.0   Pave     1.194706    2.084931   \n",
              "...             ...       ...         ...    ...          ...         ...   \n",
              "2914         Normal        WD         0.0   Pave     1.026672    1.988484   \n",
              "2915        Abnorml        WD         0.0   Pave     1.080418    1.988484   \n",
              "2916        Abnorml        WD         0.0   Pave     1.124748    2.093184   \n",
              "2917         Normal        WD         0.0   Pave     1.080418    2.056267   \n",
              "2918         Normal        WD         0.0   Pave     1.194706    2.067464   \n",
              "\n",
              "      Utilities  WoodDeckSF  YearBuilt YearRemodAdd  \n",
              "0             3    0.000000       2003         2003  \n",
              "1             3    1.902174       1976         1976  \n",
              "2             3    0.000000       2001         2002  \n",
              "3             3    0.000000       1915         1970  \n",
              "4             3    1.834610       2000         2000  \n",
              "...         ...         ...        ...          ...  \n",
              "2914          3    0.000000       1970         1970  \n",
              "2915          3    0.000000       1970         1970  \n",
              "2916          3    1.968973       1960         1996  \n",
              "2917          3    1.685370       1992         1992  \n",
              "2918          3    1.832945       1993         1994  \n",
              "\n",
              "[2919 rows x 67 columns]"
            ],
            "text/html": [
              "\n",
              "  <div id=\"df-99afb3f0-25f0-4f8b-8899-c39406680122\" class=\"colab-df-container\">\n",
              "    <div>\n",
              "<style scoped>\n",
              "    .dataframe tbody tr th:only-of-type {\n",
              "        vertical-align: middle;\n",
              "    }\n",
              "\n",
              "    .dataframe tbody tr th {\n",
              "        vertical-align: top;\n",
              "    }\n",
              "\n",
              "    .dataframe thead th {\n",
              "        text-align: right;\n",
              "    }\n",
              "</style>\n",
              "<table border=\"1\" class=\"dataframe\">\n",
              "  <thead>\n",
              "    <tr style=\"text-align: right;\">\n",
              "      <th></th>\n",
              "      <th>1stFlrSF</th>\n",
              "      <th>2ndFlrSF</th>\n",
              "      <th>BedroomAbvGr</th>\n",
              "      <th>BldgType</th>\n",
              "      <th>BsmtCond</th>\n",
              "      <th>BsmtExposure</th>\n",
              "      <th>BsmtFinSF1</th>\n",
              "      <th>BsmtFinType1</th>\n",
              "      <th>BsmtFinType2</th>\n",
              "      <th>BsmtFullBath</th>\n",
              "      <th>...</th>\n",
              "      <th>SaleCondition</th>\n",
              "      <th>SaleType</th>\n",
              "      <th>ScreenPorch</th>\n",
              "      <th>Street</th>\n",
              "      <th>TotRmsAbvGrd</th>\n",
              "      <th>TotalBsmtSF</th>\n",
              "      <th>Utilities</th>\n",
              "      <th>WoodDeckSF</th>\n",
              "      <th>YearBuilt</th>\n",
              "      <th>YearRemodAdd</th>\n",
              "    </tr>\n",
              "  </thead>\n",
              "  <tbody>\n",
              "    <tr>\n",
              "      <th>0</th>\n",
              "      <td>2.048136</td>\n",
              "      <td>2.047835</td>\n",
              "      <td>0.869742</td>\n",
              "      <td>1Fam</td>\n",
              "      <td>3</td>\n",
              "      <td>-1</td>\n",
              "      <td>2.023008</td>\n",
              "      <td>6</td>\n",
              "      <td>1</td>\n",
              "      <td>0.526589</td>\n",
              "      <td>...</td>\n",
              "      <td>Normal</td>\n",
              "      <td>WD</td>\n",
              "      <td>0.0</td>\n",
              "      <td>Pave</td>\n",
              "      <td>1.162283</td>\n",
              "      <td>2.048136</td>\n",
              "      <td>3</td>\n",
              "      <td>0.000000</td>\n",
              "      <td>2003</td>\n",
              "      <td>2003</td>\n",
              "    </tr>\n",
              "    <tr>\n",
              "      <th>1</th>\n",
              "      <td>2.096943</td>\n",
              "      <td>0.000000</td>\n",
              "      <td>0.869742</td>\n",
              "      <td>1Fam</td>\n",
              "      <td>3</td>\n",
              "      <td>3</td>\n",
              "      <td>2.065156</td>\n",
              "      <td>5</td>\n",
              "      <td>1</td>\n",
              "      <td>0.000000</td>\n",
              "      <td>...</td>\n",
              "      <td>Normal</td>\n",
              "      <td>WD</td>\n",
              "      <td>0.0</td>\n",
              "      <td>Pave</td>\n",
              "      <td>1.080418</td>\n",
              "      <td>2.096943</td>\n",
              "      <td>3</td>\n",
              "      <td>1.902174</td>\n",
              "      <td>1976</td>\n",
              "      <td>1976</td>\n",
              "    </tr>\n",
              "    <tr>\n",
              "      <th>2</th>\n",
              "      <td>2.057383</td>\n",
              "      <td>2.049631</td>\n",
              "      <td>0.869742</td>\n",
              "      <td>1Fam</td>\n",
              "      <td>3</td>\n",
              "      <td>1</td>\n",
              "      <td>1.972450</td>\n",
              "      <td>6</td>\n",
              "      <td>1</td>\n",
              "      <td>0.526589</td>\n",
              "      <td>...</td>\n",
              "      <td>Normal</td>\n",
              "      <td>WD</td>\n",
              "      <td>0.0</td>\n",
              "      <td>Pave</td>\n",
              "      <td>1.080418</td>\n",
              "      <td>2.057383</td>\n",
              "      <td>3</td>\n",
              "      <td>0.000000</td>\n",
              "      <td>2001</td>\n",
              "      <td>2002</td>\n",
              "    </tr>\n",
              "    <tr>\n",
              "      <th>3</th>\n",
              "      <td>2.062933</td>\n",
              "      <td>2.032004</td>\n",
              "      <td>0.869742</td>\n",
              "      <td>1Fam</td>\n",
              "      <td>4</td>\n",
              "      <td>-1</td>\n",
              "      <td>1.853152</td>\n",
              "      <td>5</td>\n",
              "      <td>1</td>\n",
              "      <td>0.526589</td>\n",
              "      <td>...</td>\n",
              "      <td>Abnorml</td>\n",
              "      <td>WD</td>\n",
              "      <td>0.0</td>\n",
              "      <td>Pave</td>\n",
              "      <td>1.124748</td>\n",
              "      <td>2.032004</td>\n",
              "      <td>3</td>\n",
              "      <td>0.000000</td>\n",
              "      <td>1915</td>\n",
              "      <td>1970</td>\n",
              "    </tr>\n",
              "    <tr>\n",
              "      <th>4</th>\n",
              "      <td>2.084931</td>\n",
              "      <td>2.074473</td>\n",
              "      <td>0.959135</td>\n",
              "      <td>1Fam</td>\n",
              "      <td>3</td>\n",
              "      <td>2</td>\n",
              "      <td>2.013056</td>\n",
              "      <td>6</td>\n",
              "      <td>1</td>\n",
              "      <td>0.526589</td>\n",
              "      <td>...</td>\n",
              "      <td>Normal</td>\n",
              "      <td>WD</td>\n",
              "      <td>0.0</td>\n",
              "      <td>Pave</td>\n",
              "      <td>1.194706</td>\n",
              "      <td>2.084931</td>\n",
              "      <td>3</td>\n",
              "      <td>1.834610</td>\n",
              "      <td>2000</td>\n",
              "      <td>2000</td>\n",
              "    </tr>\n",
              "    <tr>\n",
              "      <th>...</th>\n",
              "      <td>...</td>\n",
              "      <td>...</td>\n",
              "      <td>...</td>\n",
              "      <td>...</td>\n",
              "      <td>...</td>\n",
              "      <td>...</td>\n",
              "      <td>...</td>\n",
              "      <td>...</td>\n",
              "      <td>...</td>\n",
              "      <td>...</td>\n",
              "      <td>...</td>\n",
              "      <td>...</td>\n",
              "      <td>...</td>\n",
              "      <td>...</td>\n",
              "      <td>...</td>\n",
              "      <td>...</td>\n",
              "      <td>...</td>\n",
              "      <td>...</td>\n",
              "      <td>...</td>\n",
              "      <td>...</td>\n",
              "      <td>...</td>\n",
              "    </tr>\n",
              "    <tr>\n",
              "      <th>2914</th>\n",
              "      <td>1.988484</td>\n",
              "      <td>1.988484</td>\n",
              "      <td>0.869742</td>\n",
              "      <td>Twnhs</td>\n",
              "      <td>3</td>\n",
              "      <td>-1</td>\n",
              "      <td>0.000000</td>\n",
              "      <td>1</td>\n",
              "      <td>1</td>\n",
              "      <td>0.000000</td>\n",
              "      <td>...</td>\n",
              "      <td>Normal</td>\n",
              "      <td>WD</td>\n",
              "      <td>0.0</td>\n",
              "      <td>Pave</td>\n",
              "      <td>1.026672</td>\n",
              "      <td>1.988484</td>\n",
              "      <td>3</td>\n",
              "      <td>0.000000</td>\n",
              "      <td>1970</td>\n",
              "      <td>1970</td>\n",
              "    </tr>\n",
              "    <tr>\n",
              "      <th>2915</th>\n",
              "      <td>1.988484</td>\n",
              "      <td>1.988484</td>\n",
              "      <td>0.869742</td>\n",
              "      <td>TwnhsE</td>\n",
              "      <td>3</td>\n",
              "      <td>-1</td>\n",
              "      <td>1.876926</td>\n",
              "      <td>3</td>\n",
              "      <td>1</td>\n",
              "      <td>0.000000</td>\n",
              "      <td>...</td>\n",
              "      <td>Abnorml</td>\n",
              "      <td>WD</td>\n",
              "      <td>0.0</td>\n",
              "      <td>Pave</td>\n",
              "      <td>1.080418</td>\n",
              "      <td>1.988484</td>\n",
              "      <td>3</td>\n",
              "      <td>0.000000</td>\n",
              "      <td>1970</td>\n",
              "      <td>1970</td>\n",
              "    </tr>\n",
              "    <tr>\n",
              "      <th>2916</th>\n",
              "      <td>2.093184</td>\n",
              "      <td>0.000000</td>\n",
              "      <td>0.959135</td>\n",
              "      <td>1Fam</td>\n",
              "      <td>3</td>\n",
              "      <td>-1</td>\n",
              "      <td>2.093184</td>\n",
              "      <td>5</td>\n",
              "      <td>1</td>\n",
              "      <td>0.526589</td>\n",
              "      <td>...</td>\n",
              "      <td>Abnorml</td>\n",
              "      <td>WD</td>\n",
              "      <td>0.0</td>\n",
              "      <td>Pave</td>\n",
              "      <td>1.124748</td>\n",
              "      <td>2.093184</td>\n",
              "      <td>3</td>\n",
              "      <td>1.968973</td>\n",
              "      <td>1960</td>\n",
              "      <td>1996</td>\n",
              "    </tr>\n",
              "    <tr>\n",
              "      <th>2917</th>\n",
              "      <td>2.064116</td>\n",
              "      <td>0.000000</td>\n",
              "      <td>0.869742</td>\n",
              "      <td>1Fam</td>\n",
              "      <td>3</td>\n",
              "      <td>2</td>\n",
              "      <td>1.920306</td>\n",
              "      <td>6</td>\n",
              "      <td>1</td>\n",
              "      <td>0.000000</td>\n",
              "      <td>...</td>\n",
              "      <td>Normal</td>\n",
              "      <td>WD</td>\n",
              "      <td>0.0</td>\n",
              "      <td>Pave</td>\n",
              "      <td>1.080418</td>\n",
              "      <td>2.056267</td>\n",
              "      <td>3</td>\n",
              "      <td>1.685370</td>\n",
              "      <td>1992</td>\n",
              "      <td>1992</td>\n",
              "    </tr>\n",
              "    <tr>\n",
              "      <th>2918</th>\n",
              "      <td>2.067464</td>\n",
              "      <td>2.068474</td>\n",
              "      <td>0.869742</td>\n",
              "      <td>1Fam</td>\n",
              "      <td>3</td>\n",
              "      <td>2</td>\n",
              "      <td>2.032350</td>\n",
              "      <td>2</td>\n",
              "      <td>1</td>\n",
              "      <td>0.000000</td>\n",
              "      <td>...</td>\n",
              "      <td>Normal</td>\n",
              "      <td>WD</td>\n",
              "      <td>0.0</td>\n",
              "      <td>Pave</td>\n",
              "      <td>1.194706</td>\n",
              "      <td>2.067464</td>\n",
              "      <td>3</td>\n",
              "      <td>1.832945</td>\n",
              "      <td>1993</td>\n",
              "      <td>1994</td>\n",
              "    </tr>\n",
              "  </tbody>\n",
              "</table>\n",
              "<p>2919 rows × 67 columns</p>\n",
              "</div>\n",
              "    <div class=\"colab-df-buttons\">\n",
              "\n",
              "  <div class=\"colab-df-container\">\n",
              "    <button class=\"colab-df-convert\" onclick=\"convertToInteractive('df-99afb3f0-25f0-4f8b-8899-c39406680122')\"\n",
              "            title=\"Convert this dataframe to an interactive table.\"\n",
              "            style=\"display:none;\">\n",
              "\n",
              "  <svg xmlns=\"http://www.w3.org/2000/svg\" height=\"24px\" viewBox=\"0 -960 960 960\">\n",
              "    <path d=\"M120-120v-720h720v720H120Zm60-500h600v-160H180v160Zm220 220h160v-160H400v160Zm0 220h160v-160H400v160ZM180-400h160v-160H180v160Zm440 0h160v-160H620v160ZM180-180h160v-160H180v160Zm440 0h160v-160H620v160Z\"/>\n",
              "  </svg>\n",
              "    </button>\n",
              "\n",
              "  <style>\n",
              "    .colab-df-container {\n",
              "      display:flex;\n",
              "      gap: 12px;\n",
              "    }\n",
              "\n",
              "    .colab-df-convert {\n",
              "      background-color: #E8F0FE;\n",
              "      border: none;\n",
              "      border-radius: 50%;\n",
              "      cursor: pointer;\n",
              "      display: none;\n",
              "      fill: #1967D2;\n",
              "      height: 32px;\n",
              "      padding: 0 0 0 0;\n",
              "      width: 32px;\n",
              "    }\n",
              "\n",
              "    .colab-df-convert:hover {\n",
              "      background-color: #E2EBFA;\n",
              "      box-shadow: 0px 1px 2px rgba(60, 64, 67, 0.3), 0px 1px 3px 1px rgba(60, 64, 67, 0.15);\n",
              "      fill: #174EA6;\n",
              "    }\n",
              "\n",
              "    .colab-df-buttons div {\n",
              "      margin-bottom: 4px;\n",
              "    }\n",
              "\n",
              "    [theme=dark] .colab-df-convert {\n",
              "      background-color: #3B4455;\n",
              "      fill: #D2E3FC;\n",
              "    }\n",
              "\n",
              "    [theme=dark] .colab-df-convert:hover {\n",
              "      background-color: #434B5C;\n",
              "      box-shadow: 0px 1px 3px 1px rgba(0, 0, 0, 0.15);\n",
              "      filter: drop-shadow(0px 1px 2px rgba(0, 0, 0, 0.3));\n",
              "      fill: #FFFFFF;\n",
              "    }\n",
              "  </style>\n",
              "\n",
              "    <script>\n",
              "      const buttonEl =\n",
              "        document.querySelector('#df-99afb3f0-25f0-4f8b-8899-c39406680122 button.colab-df-convert');\n",
              "      buttonEl.style.display =\n",
              "        google.colab.kernel.accessAllowed ? 'block' : 'none';\n",
              "\n",
              "      async function convertToInteractive(key) {\n",
              "        const element = document.querySelector('#df-99afb3f0-25f0-4f8b-8899-c39406680122');\n",
              "        const dataTable =\n",
              "          await google.colab.kernel.invokeFunction('convertToInteractive',\n",
              "                                                    [key], {});\n",
              "        if (!dataTable) return;\n",
              "\n",
              "        const docLinkHtml = 'Like what you see? Visit the ' +\n",
              "          '<a target=\"_blank\" href=https://colab.research.google.com/notebooks/data_table.ipynb>data table notebook</a>'\n",
              "          + ' to learn more about interactive tables.';\n",
              "        element.innerHTML = '';\n",
              "        dataTable['output_type'] = 'display_data';\n",
              "        await google.colab.output.renderOutput(dataTable, element);\n",
              "        const docLink = document.createElement('div');\n",
              "        docLink.innerHTML = docLinkHtml;\n",
              "        element.appendChild(docLink);\n",
              "      }\n",
              "    </script>\n",
              "  </div>\n",
              "\n",
              "\n",
              "<div id=\"df-519c4b54-c029-45ff-8f36-9aaa9611e9ff\">\n",
              "  <button class=\"colab-df-quickchart\" onclick=\"quickchart('df-519c4b54-c029-45ff-8f36-9aaa9611e9ff')\"\n",
              "            title=\"Suggest charts.\"\n",
              "            style=\"display:none;\">\n",
              "\n",
              "<svg xmlns=\"http://www.w3.org/2000/svg\" height=\"24px\"viewBox=\"0 0 24 24\"\n",
              "     width=\"24px\">\n",
              "    <g>\n",
              "        <path d=\"M19 3H5c-1.1 0-2 .9-2 2v14c0 1.1.9 2 2 2h14c1.1 0 2-.9 2-2V5c0-1.1-.9-2-2-2zM9 17H7v-7h2v7zm4 0h-2V7h2v10zm4 0h-2v-4h2v4z\"/>\n",
              "    </g>\n",
              "</svg>\n",
              "  </button>\n",
              "\n",
              "<style>\n",
              "  .colab-df-quickchart {\n",
              "    background-color: #E8F0FE;\n",
              "    border: none;\n",
              "    border-radius: 50%;\n",
              "    cursor: pointer;\n",
              "    display: none;\n",
              "    fill: #1967D2;\n",
              "    height: 32px;\n",
              "    padding: 0 0 0 0;\n",
              "    width: 32px;\n",
              "  }\n",
              "\n",
              "  .colab-df-quickchart:hover {\n",
              "    background-color: #E2EBFA;\n",
              "    box-shadow: 0px 1px 2px rgba(60, 64, 67, 0.3), 0px 1px 3px 1px rgba(60, 64, 67, 0.15);\n",
              "    fill: #174EA6;\n",
              "  }\n",
              "\n",
              "  [theme=dark] .colab-df-quickchart {\n",
              "    background-color: #3B4455;\n",
              "    fill: #D2E3FC;\n",
              "  }\n",
              "\n",
              "  [theme=dark] .colab-df-quickchart:hover {\n",
              "    background-color: #434B5C;\n",
              "    box-shadow: 0px 1px 3px 1px rgba(0, 0, 0, 0.15);\n",
              "    filter: drop-shadow(0px 1px 2px rgba(0, 0, 0, 0.3));\n",
              "    fill: #FFFFFF;\n",
              "  }\n",
              "</style>\n",
              "\n",
              "  <script>\n",
              "    async function quickchart(key) {\n",
              "      const charts = await google.colab.kernel.invokeFunction(\n",
              "          'suggestCharts', [key], {});\n",
              "    }\n",
              "    (() => {\n",
              "      let quickchartButtonEl =\n",
              "        document.querySelector('#df-519c4b54-c029-45ff-8f36-9aaa9611e9ff button');\n",
              "      quickchartButtonEl.style.display =\n",
              "        google.colab.kernel.accessAllowed ? 'block' : 'none';\n",
              "    })();\n",
              "  </script>\n",
              "</div>\n",
              "    </div>\n",
              "  </div>\n"
            ]
          },
          "metadata": {},
          "execution_count": 9
        }
      ]
    },
    {
      "cell_type": "code",
      "source": [
        "obj_feat = list(df.loc[:, df.dtypes == 'object'].columns.values)\n",
        "print(len(obj_feat))\n",
        "\n",
        "obj_feat"
      ],
      "metadata": {
        "colab": {
          "base_uri": "https://localhost:8080/"
        },
        "id": "FYL1ua5lYAHu",
        "outputId": "45847e2b-44e0-41e6-a62b-904a2b2acf39"
      },
      "execution_count": 10,
      "outputs": [
        {
          "output_type": "stream",
          "name": "stdout",
          "text": [
            "23\n"
          ]
        },
        {
          "output_type": "execute_result",
          "data": {
            "text/plain": [
              "['BldgType',\n",
              " 'CentralAir',\n",
              " 'Condition1',\n",
              " 'Condition2',\n",
              " 'Electrical',\n",
              " 'Exterior1st',\n",
              " 'Exterior2nd',\n",
              " 'Foundation',\n",
              " 'GarageType',\n",
              " 'Heating',\n",
              " 'HouseStyle',\n",
              " 'LandContour',\n",
              " 'LandSlope',\n",
              " 'LotConfig',\n",
              " 'LotShape',\n",
              " 'MSZoning',\n",
              " 'MasVnrType',\n",
              " 'Neighborhood',\n",
              " 'RoofMatl',\n",
              " 'RoofStyle',\n",
              " 'SaleCondition',\n",
              " 'SaleType',\n",
              " 'Street']"
            ]
          },
          "metadata": {},
          "execution_count": 10
        }
      ]
    },
    {
      "cell_type": "code",
      "source": [
        "# dummy varaibale\n",
        "dummy_drop = []\n",
        "for i in obj_feat:\n",
        "    dummy_drop += [i + '_' + str(df[i].unique()[-1])]\n",
        "\n",
        "df = pd.get_dummies(df, columns = obj_feat)\n",
        "df = df.drop(dummy_drop, axis = 1)"
      ],
      "metadata": {
        "id": "ZxSNIbO-YE6k"
      },
      "execution_count": 11,
      "outputs": []
    },
    {
      "cell_type": "code",
      "source": [
        "df.shape"
      ],
      "metadata": {
        "colab": {
          "base_uri": "https://localhost:8080/"
        },
        "id": "LKe8tJkGYHbx",
        "outputId": "3d40b2d0-85c5-46f5-e9c1-0eef4a9639fa"
      },
      "execution_count": 12,
      "outputs": [
        {
          "output_type": "execute_result",
          "data": {
            "text/plain": [
              "(2919, 188)"
            ]
          },
          "metadata": {},
          "execution_count": 12
        }
      ]
    },
    {
      "cell_type": "code",
      "source": [
        "# scaling dataset with robust scaler\n",
        "from sklearn.preprocessing import RobustScaler\n",
        "scaler = RobustScaler()\n",
        "scaler.fit(df)\n",
        "df = scaler.transform(df)"
      ],
      "metadata": {
        "id": "ffZ2edc1YL5A"
      },
      "execution_count": 13,
      "outputs": []
    },
    {
      "cell_type": "markdown",
      "source": [
        "Model bulding"
      ],
      "metadata": {
        "id": "Fvug3XvBYRM5"
      }
    },
    {
      "cell_type": "code",
      "source": [
        "train_len = len(train)\n",
        "X_train = df[:train_len]\n",
        "X_test = df[train_len:]\n",
        "y_train = SalePrice\n",
        "\n",
        "print(\"Shape of X_train: \", len(X_train))\n",
        "print(\"Shape of X_test: \", len(X_test))\n",
        "print(\"Shape of y_train: \", len(y_train))\n"
      ],
      "metadata": {
        "colab": {
          "base_uri": "https://localhost:8080/"
        },
        "id": "itWOkAJlYT1F",
        "outputId": "5b64f085-1d2a-4fed-9826-41aee0c626bc"
      },
      "execution_count": 14,
      "outputs": [
        {
          "output_type": "stream",
          "name": "stdout",
          "text": [
            "Shape of X_train:  1460\n",
            "Shape of X_test:  1459\n",
            "Shape of y_train:  1460\n"
          ]
        }
      ]
    },
    {
      "cell_type": "markdown",
      "source": [
        "Cross validation"
      ],
      "metadata": {
        "id": "NiQ8uvN5YX46"
      }
    },
    {
      "cell_type": "code",
      "source": [
        "from sklearn.model_selection import KFold, cross_val_score\n",
        "from sklearn.metrics import make_scorer, r2_score\n",
        "\n",
        "def test_model(model, X_train=X_train, y_train=y_train):\n",
        "    cv = KFold(n_splits = 3, shuffle=True, random_state = 45)\n",
        "    r2 = make_scorer(r2_score)\n",
        "    r2_val_score = cross_val_score(model, X_train, y_train, cv=cv, scoring = r2)\n",
        "    score = [r2_val_score.mean()]\n",
        "    return score"
      ],
      "metadata": {
        "id": "VAINFFkLYa2U"
      },
      "execution_count": 15,
      "outputs": []
    },
    {
      "cell_type": "code",
      "source": [
        "# first cross validation with df with log second without log"
      ],
      "metadata": {
        "id": "tVw5Ot48Yiv0"
      },
      "execution_count": 16,
      "outputs": []
    },
    {
      "cell_type": "markdown",
      "source": [
        "Linear model"
      ],
      "metadata": {
        "id": "L7cUDKIcYltQ"
      }
    },
    {
      "cell_type": "code",
      "source": [
        "import sklearn.linear_model as linear_model\n",
        "LR = linear_model.LinearRegression()\n",
        "test_model(LR)"
      ],
      "metadata": {
        "colab": {
          "base_uri": "https://localhost:8080/"
        },
        "id": "o-ZCrsmWYn1X",
        "outputId": "6b540c17-f661-45de-fbb8-8af3f2cedd91"
      },
      "execution_count": 17,
      "outputs": [
        {
          "output_type": "execute_result",
          "data": {
            "text/plain": [
              "[0.8546587322095857]"
            ]
          },
          "metadata": {},
          "execution_count": 17
        }
      ]
    },
    {
      "cell_type": "code",
      "source": [
        "rdg = linear_model.Ridge()\n",
        "test_model(rdg)"
      ],
      "metadata": {
        "colab": {
          "base_uri": "https://localhost:8080/"
        },
        "id": "WmnyK2UlYsxK",
        "outputId": "9f6e25fd-d126-42b3-b792-a3ae3c850383"
      },
      "execution_count": 18,
      "outputs": [
        {
          "output_type": "execute_result",
          "data": {
            "text/plain": [
              "[0.8880649261169052]"
            ]
          },
          "metadata": {},
          "execution_count": 18
        }
      ]
    },
    {
      "cell_type": "code",
      "source": [
        "lasso = linear_model.Lasso(alpha=1e-4)\n",
        "test_model(lasso)"
      ],
      "metadata": {
        "colab": {
          "base_uri": "https://localhost:8080/"
        },
        "id": "klxNN3TMYxpb",
        "outputId": "6d7527fe-79e5-4a7a-ef09-926e50a8a877"
      },
      "execution_count": 20,
      "outputs": [
        {
          "output_type": "stream",
          "name": "stderr",
          "text": [
            "/usr/local/lib/python3.10/dist-packages/sklearn/linear_model/_coordinate_descent.py:631: ConvergenceWarning: Objective did not converge. You might want to increase the number of iterations, check the scale of the features or consider increasing regularisation. Duality gap: 8.388e-01, tolerance: 1.503e-02\n",
            "  model = cd_fast.enet_coordinate_descent(\n",
            "/usr/local/lib/python3.10/dist-packages/sklearn/linear_model/_coordinate_descent.py:631: ConvergenceWarning: Objective did not converge. You might want to increase the number of iterations, check the scale of the features or consider increasing regularisation. Duality gap: 1.646e-01, tolerance: 1.575e-02\n",
            "  model = cd_fast.enet_coordinate_descent(\n",
            "/usr/local/lib/python3.10/dist-packages/sklearn/linear_model/_coordinate_descent.py:631: ConvergenceWarning: Objective did not converge. You might want to increase the number of iterations, check the scale of the features or consider increasing regularisation. Duality gap: 8.516e-01, tolerance: 1.578e-02\n",
            "  model = cd_fast.enet_coordinate_descent(\n"
          ]
        },
        {
          "output_type": "execute_result",
          "data": {
            "text/plain": [
              "[0.8838984300386702]"
            ]
          },
          "metadata": {},
          "execution_count": 20
        }
      ]
    },
    {
      "cell_type": "markdown",
      "source": [
        "Support vector machine"
      ],
      "metadata": {
        "id": "Clo7ogqyY-m0"
      }
    },
    {
      "cell_type": "code",
      "source": [
        "from sklearn.svm import SVR\n",
        "svr = SVR(kernel='rbf')\n",
        "test_model(svr)"
      ],
      "metadata": {
        "colab": {
          "base_uri": "https://localhost:8080/"
        },
        "id": "I665TY8VZBrw",
        "outputId": "c22d6e9a-d220-49dc-ed28-13dba2cdc437"
      },
      "execution_count": 21,
      "outputs": [
        {
          "output_type": "execute_result",
          "data": {
            "text/plain": [
              "[0.8830460865860393]"
            ]
          },
          "metadata": {},
          "execution_count": 21
        }
      ]
    },
    {
      "cell_type": "markdown",
      "source": [
        "SVM Hyper parameter turing"
      ],
      "metadata": {
        "id": "4zv0BsDHZKEl"
      }
    },
    {
      "cell_type": "code",
      "source": [
        "!pip install scikit-learn"
      ],
      "metadata": {
        "colab": {
          "base_uri": "https://localhost:8080/"
        },
        "id": "HLDXy4-iZ0Xd",
        "outputId": "b4c6048d-910d-4eca-837e-9c3cdefd0dac"
      },
      "execution_count": 25,
      "outputs": [
        {
          "output_type": "stream",
          "name": "stdout",
          "text": [
            "Requirement already satisfied: scikit-learn in /usr/local/lib/python3.10/dist-packages (1.2.2)\n",
            "Requirement already satisfied: numpy>=1.17.3 in /usr/local/lib/python3.10/dist-packages (from scikit-learn) (1.23.5)\n",
            "Requirement already satisfied: scipy>=1.3.2 in /usr/local/lib/python3.10/dist-packages (from scikit-learn) (1.10.1)\n",
            "Requirement already satisfied: joblib>=1.1.1 in /usr/local/lib/python3.10/dist-packages (from scikit-learn) (1.3.2)\n",
            "Requirement already satisfied: threadpoolctl>=2.0.0 in /usr/local/lib/python3.10/dist-packages (from scikit-learn) (3.2.0)\n"
          ]
        }
      ]
    },
    {
      "cell_type": "code",
      "source": [
        "from sklearn.model_selection import RandomizedSearchCV, GridSearchCV\n",
        "from sklearn.svm import SVR\n",
        "\n",
        "svr_reg = SVR()\n",
        "params = {'kernel': ['rbf'],\n",
        "         'gamma': [1, 0.1, 0.01, 0.001, 0.0001],\n",
        "         'C': [0.1, 1, 10, 100, 1000],\n",
        "         'epsilon': [1, 0.2, 0.1, 0.01, 0.001, 0.0001]}\n",
        "rand_search = RandomizedSearchCV(svr_reg, param_distributions=params, n_jobs=-1, cv=11)\n",
        "rand_search.fit(X_train, y_train)\n",
        "rand_search.best_score_"
      ],
      "metadata": {
        "colab": {
          "base_uri": "https://localhost:8080/"
        },
        "id": "OExVDdQAZOJu",
        "outputId": "df76064c-ce80-4dcc-ac12-698adf1d523f"
      },
      "execution_count": 31,
      "outputs": [
        {
          "output_type": "execute_result",
          "data": {
            "text/plain": [
              "0.8967408225105075"
            ]
          },
          "metadata": {},
          "execution_count": 31
        }
      ]
    },
    {
      "cell_type": "code",
      "source": [
        "rand_search.best_estimator_"
      ],
      "metadata": {
        "colab": {
          "base_uri": "https://localhost:8080/",
          "height": 74
        },
        "id": "dO1_ksXgcL63",
        "outputId": "16035074-5ff7-4712-d3e1-6bb90e40bdb2"
      },
      "execution_count": 32,
      "outputs": [
        {
          "output_type": "execute_result",
          "data": {
            "text/plain": [
              "SVR(C=1, epsilon=0.01, gamma=0.01)"
            ],
            "text/html": [
              "<style>#sk-container-id-1 {color: black;background-color: white;}#sk-container-id-1 pre{padding: 0;}#sk-container-id-1 div.sk-toggleable {background-color: white;}#sk-container-id-1 label.sk-toggleable__label {cursor: pointer;display: block;width: 100%;margin-bottom: 0;padding: 0.3em;box-sizing: border-box;text-align: center;}#sk-container-id-1 label.sk-toggleable__label-arrow:before {content: \"▸\";float: left;margin-right: 0.25em;color: #696969;}#sk-container-id-1 label.sk-toggleable__label-arrow:hover:before {color: black;}#sk-container-id-1 div.sk-estimator:hover label.sk-toggleable__label-arrow:before {color: black;}#sk-container-id-1 div.sk-toggleable__content {max-height: 0;max-width: 0;overflow: hidden;text-align: left;background-color: #f0f8ff;}#sk-container-id-1 div.sk-toggleable__content pre {margin: 0.2em;color: black;border-radius: 0.25em;background-color: #f0f8ff;}#sk-container-id-1 input.sk-toggleable__control:checked~div.sk-toggleable__content {max-height: 200px;max-width: 100%;overflow: auto;}#sk-container-id-1 input.sk-toggleable__control:checked~label.sk-toggleable__label-arrow:before {content: \"▾\";}#sk-container-id-1 div.sk-estimator input.sk-toggleable__control:checked~label.sk-toggleable__label {background-color: #d4ebff;}#sk-container-id-1 div.sk-label input.sk-toggleable__control:checked~label.sk-toggleable__label {background-color: #d4ebff;}#sk-container-id-1 input.sk-hidden--visually {border: 0;clip: rect(1px 1px 1px 1px);clip: rect(1px, 1px, 1px, 1px);height: 1px;margin: -1px;overflow: hidden;padding: 0;position: absolute;width: 1px;}#sk-container-id-1 div.sk-estimator {font-family: monospace;background-color: #f0f8ff;border: 1px dotted black;border-radius: 0.25em;box-sizing: border-box;margin-bottom: 0.5em;}#sk-container-id-1 div.sk-estimator:hover {background-color: #d4ebff;}#sk-container-id-1 div.sk-parallel-item::after {content: \"\";width: 100%;border-bottom: 1px solid gray;flex-grow: 1;}#sk-container-id-1 div.sk-label:hover label.sk-toggleable__label {background-color: #d4ebff;}#sk-container-id-1 div.sk-serial::before {content: \"\";position: absolute;border-left: 1px solid gray;box-sizing: border-box;top: 0;bottom: 0;left: 50%;z-index: 0;}#sk-container-id-1 div.sk-serial {display: flex;flex-direction: column;align-items: center;background-color: white;padding-right: 0.2em;padding-left: 0.2em;position: relative;}#sk-container-id-1 div.sk-item {position: relative;z-index: 1;}#sk-container-id-1 div.sk-parallel {display: flex;align-items: stretch;justify-content: center;background-color: white;position: relative;}#sk-container-id-1 div.sk-item::before, #sk-container-id-1 div.sk-parallel-item::before {content: \"\";position: absolute;border-left: 1px solid gray;box-sizing: border-box;top: 0;bottom: 0;left: 50%;z-index: -1;}#sk-container-id-1 div.sk-parallel-item {display: flex;flex-direction: column;z-index: 1;position: relative;background-color: white;}#sk-container-id-1 div.sk-parallel-item:first-child::after {align-self: flex-end;width: 50%;}#sk-container-id-1 div.sk-parallel-item:last-child::after {align-self: flex-start;width: 50%;}#sk-container-id-1 div.sk-parallel-item:only-child::after {width: 0;}#sk-container-id-1 div.sk-dashed-wrapped {border: 1px dashed gray;margin: 0 0.4em 0.5em 0.4em;box-sizing: border-box;padding-bottom: 0.4em;background-color: white;}#sk-container-id-1 div.sk-label label {font-family: monospace;font-weight: bold;display: inline-block;line-height: 1.2em;}#sk-container-id-1 div.sk-label-container {text-align: center;}#sk-container-id-1 div.sk-container {/* jupyter's `normalize.less` sets `[hidden] { display: none; }` but bootstrap.min.css set `[hidden] { display: none !important; }` so we also need the `!important` here to be able to override the default hidden behavior on the sphinx rendered scikit-learn.org. See: https://github.com/scikit-learn/scikit-learn/issues/21755 */display: inline-block !important;position: relative;}#sk-container-id-1 div.sk-text-repr-fallback {display: none;}</style><div id=\"sk-container-id-1\" class=\"sk-top-container\"><div class=\"sk-text-repr-fallback\"><pre>SVR(C=1, epsilon=0.01, gamma=0.01)</pre><b>In a Jupyter environment, please rerun this cell to show the HTML representation or trust the notebook. <br />On GitHub, the HTML representation is unable to render, please try loading this page with nbviewer.org.</b></div><div class=\"sk-container\" hidden><div class=\"sk-item\"><div class=\"sk-estimator sk-toggleable\"><input class=\"sk-toggleable__control sk-hidden--visually\" id=\"sk-estimator-id-1\" type=\"checkbox\" checked><label for=\"sk-estimator-id-1\" class=\"sk-toggleable__label sk-toggleable__label-arrow\">SVR</label><div class=\"sk-toggleable__content\"><pre>SVR(C=1, epsilon=0.01, gamma=0.01)</pre></div></div></div></div></div>"
            ]
          },
          "metadata": {},
          "execution_count": 32
        }
      ]
    },
    {
      "cell_type": "code",
      "source": [
        "svr_reg1=SVR(C=10, cache_size=200, coef0=0.0, degree=3, epsilon=0.1, gamma=0.001,\n",
        "    kernel='rbf', max_iter=-1, shrinking=True, tol=0.001, verbose=False)\n",
        "test_model(svr_reg1)"
      ],
      "metadata": {
        "colab": {
          "base_uri": "https://localhost:8080/"
        },
        "id": "Xi1D_N_NdBU5",
        "outputId": "67caf84b-f3d7-48f8-f03d-ba896f0da67e"
      },
      "execution_count": 33,
      "outputs": [
        {
          "output_type": "execute_result",
          "data": {
            "text/plain": [
              "[0.8879819130252283]"
            ]
          },
          "metadata": {},
          "execution_count": 33
        }
      ]
    },
    {
      "cell_type": "code",
      "source": [
        "svr_reg= SVR(C=100, cache_size=200, coef0=0.0, degree=3, epsilon=0.01, gamma=0.0001,\n",
        "    kernel='rbf', max_iter=-1, shrinking=True, tol=0.001, verbose=False)\n",
        "test_model(svr_reg)"
      ],
      "metadata": {
        "colab": {
          "base_uri": "https://localhost:8080/"
        },
        "id": "Fjm_7SemdEbY",
        "outputId": "c8fa5a1e-db11-4390-e0ac-a5a1f423c1d0"
      },
      "execution_count": 34,
      "outputs": [
        {
          "output_type": "execute_result",
          "data": {
            "text/plain": [
              "[0.9002022271963671]"
            ]
          },
          "metadata": {},
          "execution_count": 34
        }
      ]
    },
    {
      "cell_type": "markdown",
      "source": [
        "XGBoost"
      ],
      "metadata": {
        "id": "Y5CSRInkdHSE"
      }
    },
    {
      "cell_type": "code",
      "source": [
        "import xgboost\n",
        "#xgb_reg=xgboost.XGBRegressor()\n",
        "xgb_reg = xgboost.XGBRegressor(bbooster='gbtree', random_state=51)\n",
        "test_model(xgb_reg)"
      ],
      "metadata": {
        "colab": {
          "base_uri": "https://localhost:8080/"
        },
        "id": "iHlSSWRYdJw1",
        "outputId": "a127a829-4a16-4490-f0f8-742e7536242c"
      },
      "execution_count": 35,
      "outputs": [
        {
          "output_type": "stream",
          "name": "stdout",
          "text": [
            "[17:32:52] WARNING: ../src/learner.cc:767: \n",
            "Parameters: { \"bbooster\" } are not used.\n",
            "\n",
            "[17:32:53] WARNING: ../src/learner.cc:767: \n",
            "Parameters: { \"bbooster\" } are not used.\n",
            "\n",
            "[17:32:54] WARNING: ../src/learner.cc:767: \n",
            "Parameters: { \"bbooster\" } are not used.\n",
            "\n"
          ]
        },
        {
          "output_type": "execute_result",
          "data": {
            "text/plain": [
              "[0.8720914520512176]"
            ]
          },
          "metadata": {},
          "execution_count": 35
        }
      ]
    },
    {
      "cell_type": "code",
      "source": [
        "xgb2_reg=xgboost.XGBRegressor(n_estimators= 899,\n",
        " mon_child_weight= 2,\n",
        " max_depth= 4,\n",
        " learning_rate= 0.05,\n",
        " booster= 'gbtree')\n",
        "\n",
        "test_model(xgb2_reg)"
      ],
      "metadata": {
        "colab": {
          "base_uri": "https://localhost:8080/"
        },
        "id": "RC8M84CVdO22",
        "outputId": "cc2a459b-afce-47ed-9290-b54f6bdefd5d"
      },
      "execution_count": 36,
      "outputs": [
        {
          "output_type": "stream",
          "name": "stdout",
          "text": [
            "[17:33:06] WARNING: ../src/learner.cc:767: \n",
            "Parameters: { \"mon_child_weight\" } are not used.\n",
            "\n",
            "[17:33:14] WARNING: ../src/learner.cc:767: \n",
            "Parameters: { \"mon_child_weight\" } are not used.\n",
            "\n",
            "[17:33:18] WARNING: ../src/learner.cc:767: \n",
            "Parameters: { \"mon_child_weight\" } are not used.\n",
            "\n"
          ]
        },
        {
          "output_type": "execute_result",
          "data": {
            "text/plain": [
              "[0.8955434181979491]"
            ]
          },
          "metadata": {},
          "execution_count": 36
        }
      ]
    },
    {
      "cell_type": "markdown",
      "source": [
        "Solution"
      ],
      "metadata": {
        "id": "JOo3HG5pdWkL"
      }
    },
    {
      "cell_type": "code",
      "source": [
        "xgb2_reg.fit(X_train,y_train)\n",
        "y_pred = np.exp(xgb2_reg.predict(X_test)).round(2)\n",
        "submit_test = pd.concat([test['Id'],pd.DataFrame(y_pred)], axis=1)\n",
        "submit_test.columns=['Id', 'SalePrice']\n",
        "submit_test.to_csv('sample_submission.csv', index=False)\n",
        "submit_test\n",
        "\n",
        "\"\"\"\n",
        "Rank: 1444\n",
        "Red AI Productionnovice\n",
        "tier\n",
        "0.12278\n",
        "5\n",
        "now\n",
        "Your Best Entry\n",
        "Your submission scored 0.13481, which is not an improvement of your best score. Keep trying!\"\"\""
      ],
      "metadata": {
        "colab": {
          "base_uri": "https://localhost:8080/",
          "height": 104
        },
        "id": "2wTBpw8idYYz",
        "outputId": "08c64db4-cc00-44e8-ff9c-d4ee3ec3e79f"
      },
      "execution_count": 38,
      "outputs": [
        {
          "output_type": "stream",
          "name": "stdout",
          "text": [
            "[17:34:24] WARNING: ../src/learner.cc:767: \n",
            "Parameters: { \"mon_child_weight\" } are not used.\n",
            "\n"
          ]
        },
        {
          "output_type": "execute_result",
          "data": {
            "text/plain": [
              "'\\nRank: 1444\\nRed AI Productionnovice \\ntier\\n0.12278\\n5\\nnow\\nYour Best Entry \\nYour submission scored 0.13481, which is not an improvement of your best score. Keep trying!'"
            ],
            "application/vnd.google.colaboratory.intrinsic+json": {
              "type": "string"
            }
          },
          "metadata": {},
          "execution_count": 38
        }
      ]
    },
    {
      "cell_type": "code",
      "source": [
        "svr_reg.fit(X_train,y_train)\n",
        "y_pred = np.exp(svr_reg.predict(X_test)).round(2)\n",
        "submit_test = pd.concat([test['Id'],pd.DataFrame(y_pred)], axis=1)\n",
        "submit_test.columns=['Id', 'SalePrice']\n",
        "submit_test.to_csv('sample_submission.csv', index=False)\n",
        "submit_test\n",
        "\n",
        "\"\"\"\n",
        "file: sample_submission-v1-fs\n",
        "rank: 1444\n",
        "Red AI Productionnovice tier\n",
        "0.12278\n",
        "4\n",
        "3m\n",
        "Your Best Entry\n",
        "You advanced 140 places on the leaderboard!\n",
        "\n",
        "Your submission scored 0.12278, which is an improvement of your previous score of 0.12484. Great job!\"\"\""
      ],
      "metadata": {
        "colab": {
          "base_uri": "https://localhost:8080/",
          "height": 70
        },
        "id": "nZNf7nCDdpA4",
        "outputId": "1e41cfe7-caa6-4b00-c373-a8376e25bb0e"
      },
      "execution_count": 39,
      "outputs": [
        {
          "output_type": "execute_result",
          "data": {
            "text/plain": [
              "'\\nfile: sample_submission-v1-fs\\nrank: 1444\\nRed AI Productionnovice tier\\n0.12278\\n4\\n3m\\nYour Best Entry \\nYou advanced 140 places on the leaderboard!\\n\\nYour submission scored 0.12278, which is an improvement of your previous score of 0.12484. Great job!'"
            ],
            "application/vnd.google.colaboratory.intrinsic+json": {
              "type": "string"
            }
          },
          "metadata": {},
          "execution_count": 39
        }
      ]
    },
    {
      "cell_type": "markdown",
      "source": [
        "Model save"
      ],
      "metadata": {
        "id": "sL2pyBzedrtw"
      }
    },
    {
      "cell_type": "code",
      "source": [
        "import pickle\n",
        "\n",
        "pickle.dump(svr_reg, open('model_house_price_prediction.csv', 'wb'))\n",
        "model_house_price_prediction = pickle.load(open('model_house_price_prediction.csv', 'rb'))\n",
        "model_house_price_prediction.predict(X_test)"
      ],
      "metadata": {
        "colab": {
          "base_uri": "https://localhost:8080/"
        },
        "id": "lWkpGxORdt41",
        "outputId": "455d342b-f79e-4262-9d27-cf82625e45c2"
      },
      "execution_count": 40,
      "outputs": [
        {
          "output_type": "execute_result",
          "data": {
            "text/plain": [
              "array([11.66072156, 12.01923057, 12.1316775 , ..., 12.03046738,\n",
              "       11.72310123, 12.29459311])"
            ]
          },
          "metadata": {},
          "execution_count": 40
        }
      ]
    },
    {
      "cell_type": "code",
      "source": [
        "test_model(model_house_price_prediction)"
      ],
      "metadata": {
        "colab": {
          "base_uri": "https://localhost:8080/"
        },
        "id": "zGGDp5ehd0JX",
        "outputId": "70b75ffd-e594-4078-c8ce-c8418037d36a"
      },
      "execution_count": 41,
      "outputs": [
        {
          "output_type": "execute_result",
          "data": {
            "text/plain": [
              "[0.9002022271963671]"
            ]
          },
          "metadata": {},
          "execution_count": 41
        }
      ]
    }
  ]
}